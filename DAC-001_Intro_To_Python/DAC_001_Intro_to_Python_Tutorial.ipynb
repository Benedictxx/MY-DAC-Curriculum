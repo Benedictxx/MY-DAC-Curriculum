{
 "cells": [
  {
   "cell_type": "code",
   "execution_count": 8,
   "metadata": {},
   "outputs": [
    {
     "name": "stdout",
     "output_type": "stream",
     "text": [
      "['orange', 'banana', 'tomato']\n"
     ]
    }
   ],
   "source": [
    "#Question 1\n",
    "list = [\"apple\",\"orange\",\"banana\"]\n",
    "list.append(\"tomato\")\n",
    "list.remove(\"apple\")\n",
    "print(list)\n"
   ]
  },
  {
   "cell_type": "code",
   "execution_count": 22,
   "metadata": {},
   "outputs": [
    {
     "name": "stdout",
     "output_type": "stream",
     "text": [
      "('physics', 'chemistry', 'english', 'maths', 'biology', 'literature')\n",
      "6\n"
     ]
    }
   ],
   "source": [
    "#Question 2\n",
    "tuple = (\"physics\",\"chemistry\",\"english\",\"maths\",\"biology\")\n",
    "tuple2 = (\"literature\",)\n",
    "new_tuple = tuple + tuple2\n",
    "print(new_tuple)\n",
    "print(len(new_tuple))\n"
   ]
  },
  {
   "cell_type": "code",
   "execution_count": 31,
   "metadata": {},
   "outputs": [
    {
     "name": "stdout",
     "output_type": "stream",
     "text": [
      "None\n"
     ]
    }
   ],
   "source": [
    "#Question 3\n",
    "students_id = [10,6,7,8,9,3]\n",
    "sorted_students_id = students_id.sort(reverse=True)\n",
    "print(sorted_students_id)"
   ]
  },
  {
   "cell_type": "code",
   "execution_count": null,
   "metadata": {},
   "outputs": [],
   "source": []
  }
 ],
 "metadata": {
  "kernelspec": {
   "display_name": "Python 3",
   "language": "python",
   "name": "python3"
  },
  "language_info": {
   "codemirror_mode": {
    "name": "ipython",
    "version": 3
   },
   "file_extension": ".py",
   "mimetype": "text/x-python",
   "name": "python",
   "nbconvert_exporter": "python",
   "pygments_lexer": "ipython3",
   "version": "3.12.6"
  }
 },
 "nbformat": 4,
 "nbformat_minor": 2
}
